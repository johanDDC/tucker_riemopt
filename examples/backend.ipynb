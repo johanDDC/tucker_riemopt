{
 "cells": [
  {
   "cell_type": "markdown",
   "metadata": {
    "id": "t1ov9hL5S3IH"
   },
   "source": [
    "### Backends"
   ]
  },
  {
   "cell_type": "markdown",
   "metadata": {
    "id": "Q48ciw9ZS3IJ"
   },
   "source": [
    "You can change the backend to perform computation with a different framework. By default, the backend is JAX, but you can also perform the computation using PyTorch or set up your own backend, if you need. For instance, after setting the backend to PyTorch, all the computation is done by PyTorch. It doesn't matter, which backend you are using: the interface remains the same.\n",
    "\n",
    "Let us give some examples:"
   ]
  },
  {
   "cell_type": "code",
   "execution_count": 1,
   "metadata": {
    "colab": {
     "base_uri": "https://localhost:8080/"
    },
    "id": "F3JTwJ0uS3IM",
    "executionInfo": {
     "status": "ok",
     "timestamp": 1666642814665,
     "user_tz": -180,
     "elapsed": 1636,
     "user": {
      "displayName": "Иван Пешехонов",
      "userId": "11137426863973800804"
     }
    },
    "outputId": "c07ce2c7-dfd7-46e2-b5d1-e384e8fa9bef"
   },
   "outputs": [
    {
     "output_type": "stream",
     "name": "stderr",
     "text": [
      "WARNING:absl:No GPU/TPU found, falling back to CPU. (Set TF_CPP_MIN_LOG_LEVEL=0 and rerun for more info.)\n"
     ]
    }
   ],
   "source": [
    "import numpy as np\n",
    "import matplotlib.pyplot as plt\n",
    "plt.rcParams[\"figure.figsize\"] = (8,8)\n",
    "\n",
    "from tucker_riemopt import backend as back\n",
    "from tucker_riemopt import set_backend"
   ]
  },
  {
   "cell_type": "markdown",
   "metadata": {
    "id": "42NUS0J-S3IN"
   },
   "source": [
    "First of all let's try default (JAX) backend:"
   ]
  },
  {
   "cell_type": "code",
   "execution_count": 2,
   "metadata": {
    "colab": {
     "base_uri": "https://localhost:8080/"
    },
    "id": "4dFfNylTS3IO",
    "executionInfo": {
     "status": "ok",
     "timestamp": 1666642815025,
     "user_tz": -180,
     "elapsed": 364,
     "user": {
      "displayName": "Иван Пешехонов",
      "userId": "11137426863973800804"
     }
    },
    "outputId": "547bd140-30ba-4a6f-d56f-4a701fa3141c"
   },
   "outputs": [
    {
     "output_type": "stream",
     "name": "stdout",
     "text": [
      "<class 'jaxlib.xla_extension.DeviceArray'>\n",
      "[1.3000957  0.6547875  0.08933832]\n",
      "False\n"
     ]
    }
   ],
   "source": [
    "A = back.tensor(np.random.rand(3, 3))\n",
    "print(type(A)) # jax DeviceArray\n",
    "print(back.svd(A, full_matrices=False)[1])\n",
    "# we can cast tensor to numpy array from any backend at any time\n",
    "Q = back.qr(A)[0]\n",
    "Q = back.to_numpy(Q)\n",
    "print(np.allclose(np.eye(3), Q.T @ Q))"
   ]
  },
  {
   "cell_type": "markdown",
   "metadata": {
    "id": "bj_99lgyS3IP"
   },
   "source": [
    "And now let's switch to PyTorch"
   ]
  },
  {
   "cell_type": "code",
   "execution_count": 3,
   "metadata": {
    "colab": {
     "base_uri": "https://localhost:8080/"
    },
    "id": "gNfLD4TVS3IQ",
    "executionInfo": {
     "status": "ok",
     "timestamp": 1666642818491,
     "user_tz": -180,
     "elapsed": 3469,
     "user": {
      "displayName": "Иван Пешехонов",
      "userId": "11137426863973800804"
     }
    },
    "outputId": "f639c305-dea3-40c7-ca77-99a8a0731230"
   },
   "outputs": [
    {
     "output_type": "stream",
     "name": "stdout",
     "text": [
      "<class 'torch.Tensor'>\n",
      "tensor([1.9576, 1.3520, 0.1724], dtype=torch.float64)\n",
      "True\n"
     ]
    }
   ],
   "source": [
    "set_backend(\"pytorch\")\n",
    "# and now we will do all the same operations\n",
    "A = back.randn((3, 3)) # we don't actually need numpy here\n",
    "print(type(A)) # pytorch tensor\n",
    "print(back.svd(A, full_matrices=False)[1])\n",
    "# we can cast tensor to numpy array from any backend at any time\n",
    "Q = back.qr(A)[0]\n",
    "Q = back.to_numpy(Q)\n",
    "print(np.allclose(np.eye(3), Q.T @ Q))"
   ]
  },
  {
   "cell_type": "markdown",
   "metadata": {
    "pycharm": {
     "name": "#%% md\n"
    },
    "id": "z8cblz0TS3IR"
   },
   "source": [
    "#### Autodiff\n",
    "\n",
    "Now we are calculating Riemann gradient using JAX and PyTorch backends.\n",
    "Let us prepare some code for demostration."
   ]
  },
  {
   "cell_type": "code",
   "execution_count": 4,
   "metadata": {
    "pycharm": {
     "name": "#%%\n"
    },
    "id": "IhsOWyPRS3IT",
    "executionInfo": {
     "status": "ok",
     "timestamp": 1666642818492,
     "user_tz": -180,
     "elapsed": 5,
     "user": {
      "displayName": "Иван Пешехонов",
      "userId": "11137426863973800804"
     }
    }
   },
   "outputs": [],
   "source": [
    "from tucker_riemopt.tucker import Tucker\n",
    "from tucker_riemopt.riemopt import compute_gradient_projection\n",
    "\n",
    "def f(T: Tucker):\n",
    "    A = T.full()\n",
    "    return (A ** 2 - A).sum()\n",
    "\n",
    "random_seed = 42\n",
    "np.random.seed(random_seed)\n",
    "\n",
    "def calculate_grads(n):\n",
    "    set_backend(\"jax\")\n",
    "    A = np.random.randn(n, n, n)\n",
    "    A_jax = back.tensor(A)\n",
    "    T_jax = Tucker.full2tuck(A_jax)\n",
    "    grad_jax = compute_gradient_projection(f, T_jax)\n",
    "    grad_jax = back.to_numpy(grad_jax.full())\n",
    "    set_backend(\"pytorch\")\n",
    "    A_torch = back.tensor(A)\n",
    "    T_torch = Tucker.full2tuck(A_torch)\n",
    "    grad_torch = compute_gradient_projection(f, T_torch)\n",
    "    grad_torch = back.to_numpy(grad_torch.full())\n",
    "    return grad_jax, grad_torch"
   ]
  },
  {
   "cell_type": "markdown",
   "metadata": {
    "pycharm": {
     "name": "#%% md\n"
    },
    "id": "DjjenpF_S3IU"
   },
   "source": [
    "And now let's explore difference between jax grad and torch grad:"
   ]
  },
  {
   "cell_type": "code",
   "execution_count": 5,
   "metadata": {
    "pycharm": {
     "name": "#%%\n"
    },
    "colab": {
     "base_uri": "https://localhost:8080/",
     "height": 513
    },
    "id": "_HIAEojtS3IV",
    "executionInfo": {
     "status": "ok",
     "timestamp": 1666642930759,
     "user_tz": -180,
     "elapsed": 112272,
     "user": {
      "displayName": "Иван Пешехонов",
      "userId": "11137426863973800804"
     }
    },
    "outputId": "d7427178-bb6f-41da-b6a8-a9643e3ac4c2"
   },
   "outputs": [
    {
     "output_type": "display_data",
     "data": {
      "text/plain": [
       "<Figure size 576x576 with 1 Axes>"
      ],
      "image/png": "[encoded data removed]"
     },
     "metadata": {
      "needs_background": "light"
     }
    }
   ],
   "source": [
    "Ns = np.arange(4, 201, 10)\n",
    "plt.xlabel(\"mode dim (n)\")\n",
    "plt.ylabel(r\"$\\max|\\nabla_{jax} - \\nabla_{torch}|$\")\n",
    "plt.title(\"Max of elementwise difference of grads against dimetion\")\n",
    "for n in Ns:\n",
    "    grad_jax, grad_torch = calculate_grads(n)\n",
    "    plt.scatter(n, np.abs(grad_jax - grad_torch).max(), c=\"tab:orange\")\n",
    "plt.grid()\n",
    "plt.show()"
   ]
  },
  {
   "cell_type": "markdown",
   "metadata": {
    "pycharm": {
     "name": "#%% md\n"
    },
    "id": "zh-GEIDlS3IW"
   },
   "source": [
    "We may note that absolute elementwise error remains small. "
   ]
  }
 ],
 "metadata": {
  "kernelspec": {
   "display_name": "Python 3",
   "language": "python",
   "name": "python3"
  },
  "language_info": {
   "codemirror_mode": {
    "name": "ipython",
    "version": 3
   },
   "file_extension": ".py",
   "mimetype": "text/x-python",
   "name": "python",
   "nbconvert_exporter": "python",
   "pygments_lexer": "ipython3",
   "version": "3.8.10"
  },
  "colab": {
   "provenance": [],
   "collapsed_sections": []
  }
 },
 "nbformat": 4,
 "nbformat_minor": 0
}